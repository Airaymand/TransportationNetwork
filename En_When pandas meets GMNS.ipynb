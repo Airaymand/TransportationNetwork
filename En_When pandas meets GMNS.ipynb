{
 "cells": [
  {
   "cell_type": "markdown",
   "metadata": {},
   "source": [
    "# 1 Introduction\n",
    "## 1.1 What is GMNS?\n",
    "General Modeling Network Specification (GMNS) is a flexible and unified multi-mode traffic network representation format. It is convenient for researchers to share and merge network data from different channels. \n",
    "## 1.2 What is Pandas?\n",
    "Pandas is a data analysis package for Python. It is designed by AQR Capital Management in April,2008 and opened source at the end of 2009. Currently, Pydata, which focuses on Python data package development, continues developing and maintaining and is a part of pydata project.\n",
    "In order to use pandas more effectively, we recomment using Anacaonda as your IDE. If you're done, you can execute the following command in Anaconda Powershell Prompt to view information about Pandas. Such as:\n",
    "- view pandas version: input 'conda list' command, you can check if pandas is installed. If pandas is installed on your computer, you can get its version information in the console list.\n",
    "- install pandas: If you have not installed pandas, please input the 'pip install pandas' command. Anaconda will automatically download and install the latest version of pandas.\n",
    "- uninstall pandas: If you want to uninstall pandas, you should the 'pip uninstall pandas' command."
   ]
  },
  {
   "cell_type": "markdown",
   "metadata": {},
   "source": [
    "# 2 How to use Pandas in GMNS data processing?\n",
    "In this section, some instances are listed to express the basic process of GMNS data processing with panda. The dataset from https://github.com/asu-trans-ai-lab/QGIS_NeXTA4GMNS/tree/master/datasets is used in our case.\n",
    "## 2.1 Examples using node.csv"
   ]
  },
  {
   "cell_type": "code",
   "execution_count": 1,
   "metadata": {},
   "outputs": [
    {
     "name": "stdout",
     "output_type": "stream",
     "text": [
      "Pandas version is 1.2.3\n"
     ]
    }
   ],
   "source": [
    "import pandas as pd  #import pandas package\n",
    "print('Pandas version is ' + pd.__version__) #search the pandas version in python code"
   ]
  },
  {
   "cell_type": "code",
   "execution_count": 2,
   "metadata": {},
   "outputs": [
    {
     "name": "stdout",
     "output_type": "stream",
     "text": [
      "the number of nodes is 219\n"
     ]
    }
   ],
   "source": [
    "df_node=pd.read_csv(r'F:\\python\\ACU\\macronet\\node.csv') # read node.csv file\n",
    "nodeCnt = df_node.index #get the count of the node.csv\n",
    "print('the number of nodes is {0}'.format(len(nodeCnt))) # output the number of nodes"
   ]
  },
  {
   "cell_type": "markdown",
   "metadata": {},
   "source": [
    "## 2.2 Examples using link.csv"
   ]
  },
  {
   "cell_type": "code",
   "execution_count": 17,
   "metadata": {},
   "outputs": [
    {
     "name": "stdout",
     "output_type": "stream",
     "text": [
      "Index(['name', 'link_id', 'from_node_id', 'to_node_id', 'facility_type',\n",
      "       'dir_flag', 'length', 'lanes', 'capacity', 'free_speed', 'link_type',\n",
      "       'cost', 'geometry', 'TMC'],\n",
      "      dtype='object')\n"
     ]
    }
   ],
   "source": [
    "import pandas as pd #import pandas Package\n",
    "df_link =pd.read_csv(r'F:\\python\\ACU\\macronet\\link.csv') # read link.csv file\n",
    "print(df_link.columns) #get the field set in link.csv"
   ]
  },
  {
   "cell_type": "code",
   "execution_count": 14,
   "metadata": {},
   "outputs": [
    {
     "name": "stdout",
     "output_type": "stream",
     "text": [
      "   name  link_id  from_node_id  to_node_id  facility_type  dir_flag  \\\n",
      "0   NaN        0             9         226            NaN       NaN   \n",
      "1   NaN        1           226           9            NaN       NaN   \n",
      "2   NaN        2           158         254            NaN       NaN   \n",
      "\n",
      "       length  lanes  capacity  free_speed  link_type  cost  \\\n",
      "0  139.285820      1       NaN    -1.60934          1   NaN   \n",
      "1  146.101478      1       NaN    -1.60934          1   NaN   \n",
      "2  110.436568      1       NaN    40.23350          1   NaN   \n",
      "\n",
      "                                            geometry  TMC  \n",
      "0  LINESTRING (-111.93039 33.42312,-111.93038 33....  NaN  \n",
      "1  LINESTRING (-111.9297 33.42413,-111.93013 33.4...  NaN  \n",
      "2  LINESTRING (-111.94127 33.42431,-111.94071 33....  NaN  \n"
     ]
    }
   ],
   "source": [
    "print(df_link.head(3)) #get the first three record in link.csv, and you can change the parameter based on your needs."
   ]
  },
  {
   "cell_type": "code",
   "execution_count": 5,
   "metadata": {},
   "outputs": [
    {
     "name": "stdout",
     "output_type": "stream",
     "text": [
      "     name  link_id  from_node_id  to_node_id  facility_type  dir_flag  \\\n",
      "155   NaN      164           111         107            NaN       NaN   \n",
      "\n",
      "         length  lanes  capacity  free_speed  link_type  cost  \\\n",
      "155  508.119779      1       NaN    -1.60934          1   NaN   \n",
      "\n",
      "                                              geometry  TMC  \n",
      "155  LINESTRING (-111.92628 33.42009,-111.92614 33....  NaN  \n"
     ]
    }
   ],
   "source": [
    "# sort one column in link.csv and get the row that contains the maximum value of the column\n",
    "lenSort = df_link.sort_values('length', ascending=False, kind='quicksort', ignore_index=False)\n",
    "print(lenSort.head(1))"
   ]
  },
  {
   "cell_type": "code",
   "execution_count": 6,
   "metadata": {},
   "outputs": [
    {
     "name": "stdout",
     "output_type": "stream",
     "text": [
      "508.11977870229583\n"
     ]
    }
   ],
   "source": [
    "print(df_link['length'].max()) # get the length of the longest link in link.csv "
   ]
  },
  {
   "cell_type": "code",
   "execution_count": 9,
   "metadata": {},
   "outputs": [
    {
     "name": "stdout",
     "output_type": "stream",
     "text": [
      "name                                                           NaN\n",
      "link_id                                                          1\n",
      "from_node_id                                                   226\n",
      "to_node_id                                                       9\n",
      "facility_type                                                  NaN\n",
      "dir_flag                                                       NaN\n",
      "length                                                  146.101478\n",
      "lanes                                                            1\n",
      "capacity                                                       NaN\n",
      "free_speed                                                -1.60934\n",
      "link_type                                                        1\n",
      "cost                                                           NaN\n",
      "geometry         LINESTRING (-111.9297 33.42413,-111.93013 33.4...\n",
      "TMC                                                            NaN\n",
      "Name: 1, dtype: object\n"
     ]
    }
   ],
   "source": [
    "print(df_link.loc[1]) # get the content in the first row"
   ]
  },
  {
   "cell_type": "code",
   "execution_count": 10,
   "metadata": {},
   "outputs": [
    {
     "name": "stdout",
     "output_type": "stream",
     "text": [
      "     name  link_id  from_node_id  to_node_id  facility_type  dir_flag  \\\n",
      "0     NaN        0             9         226            NaN       NaN   \n",
      "1     NaN        1           226           9            NaN       NaN   \n",
      "2     NaN        2           158         254            NaN       NaN   \n",
      "3     NaN        3           254         158            NaN       NaN   \n",
      "4     NaN        4            13          86            NaN       NaN   \n",
      "..    ...      ...           ...         ...            ...       ...   \n",
      "503   NaN      540            67          66            NaN       NaN   \n",
      "504   NaN      541           227         226            NaN       NaN   \n",
      "505   NaN      542           226         227            NaN       NaN   \n",
      "506   NaN      543           234          28            NaN       NaN   \n",
      "507   NaN      544           236         238            NaN       NaN   \n",
      "\n",
      "         length  lanes  capacity  free_speed  link_type  cost  \\\n",
      "0    139.285820      1       NaN    -1.60934          1   NaN   \n",
      "1    146.101478      1       NaN    -1.60934          1   NaN   \n",
      "2    110.436568      1       NaN    40.23350          1   NaN   \n",
      "3    110.435301      1       NaN    40.23350          1   NaN   \n",
      "4    156.978514      1       NaN    40.23350          1   NaN   \n",
      "..          ...    ...       ...         ...        ...   ...   \n",
      "503  164.425098      1       NaN    -1.60934          1   NaN   \n",
      "504  194.710904      1       NaN    -1.60934          1   NaN   \n",
      "505  198.666321      1       NaN    -1.60934          1   NaN   \n",
      "506    6.390731      1       NaN    -1.60934          1   NaN   \n",
      "507    6.551988      1       NaN    -1.60934          1   NaN   \n",
      "\n",
      "                                              geometry  TMC  \n",
      "0    LINESTRING (-111.93039 33.42312,-111.93038 33....  NaN  \n",
      "1    LINESTRING (-111.9297 33.42413,-111.93013 33.4...  NaN  \n",
      "2    LINESTRING (-111.94127 33.42431,-111.94071 33....  NaN  \n",
      "3    LINESTRING (-111.94008 33.42438,-111.94071 33....  NaN  \n",
      "4    LINESTRING (-111.93667 33.42433,-111.93656 33....  NaN  \n",
      "..                                                 ...  ...  \n",
      "503  LINESTRING (-111.93492 33.42547,-111.93506 33....  NaN  \n",
      "504  LINESTRING (-111.92786 33.42334,-111.92817 33....  NaN  \n",
      "505  LINESTRING (-111.92972 33.42408,-111.92966 33....  NaN  \n",
      "506  LINESTRING (-111.94233 33.42047,-111.94233 33....  NaN  \n",
      "507  LINESTRING (-111.94119 33.42048,-111.94119 33....  NaN  \n",
      "\n",
      "[389 rows x 14 columns]\n"
     ]
    }
   ],
   "source": [
    "print(df_link[df_link['lanes']==1]) #get the links with 1 lane in link.csv"
   ]
  },
  {
   "cell_type": "markdown",
   "metadata": {},
   "source": [
    "## 2.3 Examples using zone.csv"
   ]
  },
  {
   "cell_type": "code",
   "execution_count": 3,
   "metadata": {},
   "outputs": [
    {
     "name": "stdout",
     "output_type": "stream",
     "text": [
      "the total number of zones is 150\n"
     ]
    }
   ],
   "source": [
    "import pandas as pd #import pandas package\n",
    "df_zone=pd.read_csv(r'F:\\python\\ACU\\macronet\\zone.csv') #read zone.csv file\n",
    "print('the total number of zones is {0}'.format(len(df_zone.index))) #get the total number of zones"
   ]
  },
  {
   "cell_type": "code",
   "execution_count": 4,
   "metadata": {},
   "outputs": [
    {
     "name": "stdout",
     "output_type": "stream",
     "text": [
      "   zone_id      name                                           geometry\n",
      "0        1  A2 - 161  POLYGON ((-111.945007 33.427002, -111.944008 3...\n",
      "1        2    A3 - 1  POLYGON ((-111.945007 33.426003, -111.944008 3...\n",
      "2        6    A7 - 2  POLYGON ((-111.945007 33.422001, -111.944008 3...\n",
      "3        7    A8 - 3  POLYGON ((-111.945007 33.421001, -111.944008 3...\n",
      "4        9   A10 - 4  POLYGON ((-111.945007 33.419003, -111.944008 3...\n",
      "5       13   A14 - 5  POLYGON ((-111.945007 33.415001, -111.944008 3...\n",
      "6       16   A17 - 7  POLYGON ((-111.945007 33.412003, -111.944008 3...\n",
      "7       18   A19 - 8  POLYGON ((-111.945007 33.410000, -111.944008 3...\n"
     ]
    }
   ],
   "source": [
    "typeA = df_zone.loc[df_zone['name'].str.contains('A')] #select the zones that start with the letter A\n",
    "print(typeA) # print the row about zones that start with the letter A"
   ]
  },
  {
   "cell_type": "code",
   "execution_count": 13,
   "metadata": {},
   "outputs": [
    {
     "name": "stdout",
     "output_type": "stream",
     "text": [
      "the count of fields in zone.csv is 3\n"
     ]
    }
   ],
   "source": [
    "print('the count of fields in zone.csv is {0}'.format(len(typeA.columns)))"
   ]
  },
  {
   "cell_type": "code",
   "execution_count": 5,
   "metadata": {},
   "outputs": [
    {
     "name": "stdout",
     "output_type": "stream",
     "text": [
      "the count of the A zone is 8\n"
     ]
    }
   ],
   "source": [
    "print('the count of the A zone is {0}'.format(len(typeA.index))) #get the count of the A zone"
   ]
  },
  {
   "cell_type": "code",
   "execution_count": null,
   "metadata": {},
   "outputs": [],
   "source": [
    "typeA.to_csv(r'F:\\python\\ACU\\macronet\\typeA.csv') #export the rows about A zone to csv file"
   ]
  },
  {
   "cell_type": "markdown",
   "metadata": {},
   "source": [
    "# 2.4 Examples using online resources\n",
    "You can also call these resources in this artical online. Now, we will give some useful examples. \n",
    "Firstly, when you get the online resources, some steps will be executed to deal with your Github URL.\n",
    "\n",
    "CASE ONE\n",
    "You should insert 'raw.' into your URL. For example: you should modify https://githubusercontent.com/cs109/2014_data/master/countries.csv\n",
    "to https://raw.githubusercontent.com/cs109/2014_data/master/countries.csv\n",
    "\n",
    "CASE TWO:\n",
    "You should remove 'blob' and replace 'github' by 'raw.githubsercontent'. For example: you should modify https://github.com/asu-trans-ai-lab/QGIS_NeXTA4GMNS/blob/master/datasets/ASU/macronet/zone.csv\n",
    "to https://raw.githubusercontent.com/asu-trans-ai-lab/QGIS_NeXTA4GMNS/master/datasets/ASU/macronet/zone.csv\n",
    "\n",
    "Notes: In this way, you should keep the network information through promptly. Otherwise, you may get back some error messages, such as '404: Not found' or 'Connection aborted' etc."
   ]
  },
  {
   "cell_type": "code",
   "execution_count": 5,
   "metadata": {},
   "outputs": [
    {
     "data": {
      "text/html": [
       "<div>\n",
       "<style scoped>\n",
       "    .dataframe tbody tr th:only-of-type {\n",
       "        vertical-align: middle;\n",
       "    }\n",
       "\n",
       "    .dataframe tbody tr th {\n",
       "        vertical-align: top;\n",
       "    }\n",
       "\n",
       "    .dataframe thead th {\n",
       "        text-align: right;\n",
       "    }\n",
       "</style>\n",
       "<table border=\"1\" class=\"dataframe\">\n",
       "  <thead>\n",
       "    <tr style=\"text-align: right;\">\n",
       "      <th></th>\n",
       "      <th>zone_id</th>\n",
       "      <th>name</th>\n",
       "      <th>geometry</th>\n",
       "    </tr>\n",
       "  </thead>\n",
       "  <tbody>\n",
       "    <tr>\n",
       "      <th>0</th>\n",
       "      <td>1</td>\n",
       "      <td>A2 - 161</td>\n",
       "      <td>POLYGON ((-111.945007 33.427002, -111.944008 3...</td>\n",
       "    </tr>\n",
       "    <tr>\n",
       "      <th>1</th>\n",
       "      <td>2</td>\n",
       "      <td>A3 - 1</td>\n",
       "      <td>POLYGON ((-111.945007 33.426003, -111.944008 3...</td>\n",
       "    </tr>\n",
       "    <tr>\n",
       "      <th>2</th>\n",
       "      <td>6</td>\n",
       "      <td>A7 - 2</td>\n",
       "      <td>POLYGON ((-111.945007 33.422001, -111.944008 3...</td>\n",
       "    </tr>\n",
       "    <tr>\n",
       "      <th>3</th>\n",
       "      <td>7</td>\n",
       "      <td>A8 - 3</td>\n",
       "      <td>POLYGON ((-111.945007 33.421001, -111.944008 3...</td>\n",
       "    </tr>\n",
       "    <tr>\n",
       "      <th>4</th>\n",
       "      <td>9</td>\n",
       "      <td>A10 - 4</td>\n",
       "      <td>POLYGON ((-111.945007 33.419003, -111.944008 3...</td>\n",
       "    </tr>\n",
       "  </tbody>\n",
       "</table>\n",
       "</div>"
      ],
      "text/plain": [
       "   zone_id      name                                           geometry\n",
       "0        1  A2 - 161  POLYGON ((-111.945007 33.427002, -111.944008 3...\n",
       "1        2    A3 - 1  POLYGON ((-111.945007 33.426003, -111.944008 3...\n",
       "2        6    A7 - 2  POLYGON ((-111.945007 33.422001, -111.944008 3...\n",
       "3        7    A8 - 3  POLYGON ((-111.945007 33.421001, -111.944008 3...\n",
       "4        9   A10 - 4  POLYGON ((-111.945007 33.419003, -111.944008 3..."
      ]
     },
     "execution_count": 5,
     "metadata": {},
     "output_type": "execute_result"
    }
   ],
   "source": [
    "import pandas as pd\n",
    "import io\n",
    "import requests\n",
    "url='https://raw.githubusercontent.com/asu-trans-ai-lab/QGIS_NeXTA4GMNS/master/datasets/ASU/macronet/zone.csv'\n",
    "# https://raw.githubusercontent.com/cs109/2014_data/master/countries.csv\n",
    "# https://raw.githubusercontent.com/asu-trans-ai-lab/QGIS_NeXTA4GMNS/master/datasets/ASU/macronet/zone.csv\n",
    "s=requests.get(url).content\n",
    "pd_url=pd.read_csv(io.StringIO(s.decode('utf-8')))\n",
    "pd_url.head()"
   ]
  },
  {
   "cell_type": "markdown",
   "metadata": {},
   "source": [
    "# 3 References\n",
    "- The information for GMNS data format： https://github.com/zephyr-data-specs/GMNS\n",
    "- The official manual for Pandas：https://pandas.pydata.org/pandas-docs/version/0.15/tutorials.html\n",
    "- The test dataset for the artical: https://github.com/asu-trans-ai-lab/QGIS_NeXTA4GMNS/tree/master/datasets\n",
    "- How to read CSV file from GitHub using pandas: https://stackoverflow.com/questions/55240330/how-to-read-csv-file-from-github-using-pandas"
   ]
  }
 ],
 "metadata": {
  "kernelspec": {
   "display_name": "Python 3",
   "language": "python",
   "name": "python3"
  },
  "language_info": {
   "codemirror_mode": {
    "name": "ipython",
    "version": 3
   },
   "file_extension": ".py",
   "mimetype": "text/x-python",
   "name": "python",
   "nbconvert_exporter": "python",
   "pygments_lexer": "ipython3",
   "version": "3.8.3"
  }
 },
 "nbformat": 4,
 "nbformat_minor": 4
}
